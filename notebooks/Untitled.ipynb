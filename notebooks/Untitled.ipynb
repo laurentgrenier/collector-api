{
 "cells": [
  {
   "cell_type": "markdown",
   "id": "similar-grove",
   "metadata": {},
   "source": [
    "# collect drugs"
   ]
  },
  {
   "cell_type": "code",
   "execution_count": 8,
   "id": "applied-going",
   "metadata": {},
   "outputs": [],
   "source": [
    "from selenium import webdriver\n",
    "from selenium.webdriver.chrome.options import Options"
   ]
  },
  {
   "cell_type": "code",
   "execution_count": 10,
   "id": "every-analyst",
   "metadata": {},
   "outputs": [
    {
     "name": "stdout",
     "output_type": "stream",
     "text": [
      "None\n"
     ]
    }
   ],
   "source": [
    "options = Options()\n",
    "options.headless = True\n",
    "    \n",
    "# using Chrome to access web\n",
    "driver = webdriver.Chrome(\"C:\\\\workspace\\\\utils\\\\chromedriver.exe\", options=options)\n",
    "\n",
    "# open the website\n",
    "driver.get('http://base-donnees-publique.medicaments.gouv.fr')\n",
    "\n",
    "# get the search input\n",
    "search_input = driver.find_element_by_id('txtCaracteres')\n",
    "\n",
    "# fill the search input\n",
    "search_input.send_keys('plaquenil')\n",
    "\n",
    "# get the search button\n",
    "search_button = driver.find_element_by_id('btnMedic')\n",
    "\n",
    "# click on the search button\n",
    "search_button.click()"
   ]
  },
  {
   "cell_type": "code",
   "execution_count": null,
   "id": "brave-istanbul",
   "metadata": {},
   "outputs": [],
   "source": []
  }
 ],
 "metadata": {
  "kernelspec": {
   "display_name": "Python 3",
   "language": "python",
   "name": "python3"
  },
  "language_info": {
   "codemirror_mode": {
    "name": "ipython",
    "version": 3
   },
   "file_extension": ".py",
   "mimetype": "text/x-python",
   "name": "python",
   "nbconvert_exporter": "python",
   "pygments_lexer": "ipython3",
   "version": "3.7.9"
  }
 },
 "nbformat": 4,
 "nbformat_minor": 5
}
